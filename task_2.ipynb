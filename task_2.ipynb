{
 "cells": [
  {
   "cell_type": "code",
   "execution_count": 1,
   "id": "811cfa46-90d1-4850-be01-19cbd3f89000",
   "metadata": {},
   "outputs": [],
   "source": [
    "import pandas as pd\n",
    "from sklearn.metrics.pairwise import cosine_similarity\n",
    "from sklearn.feature_extraction.text import CountVectorizer"
   ]
  },
  {
   "cell_type": "code",
   "execution_count": 2,
   "id": "1124cf4f-d035-4067-9e04-b1683102a1a4",
   "metadata": {},
   "outputs": [],
   "source": [
    "data = pd.read_csv(\"data.csv\")"
   ]
  },
  {
   "cell_type": "code",
   "execution_count": 3,
   "id": "76496837-9617-464c-9d75-121f7d584e8a",
   "metadata": {},
   "outputs": [],
   "source": [
    "data['Cuisines'] = data['Cuisines'].fillna('Unknown')\n",
    "data['Rating text'] = data['Rating text'].fillna('Unknown')"
   ]
  },
  {
   "cell_type": "code",
   "execution_count": 4,
   "id": "7b7114fc-56cf-4431-ac7a-bd043df7f0a1",
   "metadata": {},
   "outputs": [],
   "source": [
    "boolean_columns = ['Has Table booking', 'Has Online delivery', 'Is delivering now', 'Switch to order menu']\n",
    "for col in boolean_columns:\n",
    "    data[col] = data[col].map({'Yes': 1, 'No': 0})"
   ]
  },
  {
   "cell_type": "code",
   "execution_count": 5,
   "id": "d6ffed4a-5c74-4794-820a-c14cb4cf17cb",
   "metadata": {},
   "outputs": [],
   "source": [
    "data['Features'] = (\n",
    "    data['Cuisines'] + \" \" + data['Currency'] + \" \" + data['Rating text'] + \" \" + \"OnlineDelivery_\" + data['Has Online delivery'].astype(str) + \" \" + \"TableBooking_\" + data['Has Table booking'].astype(str) + \" \" + \"PriceRange_\" + data['Price range'].astype(str)\n",
    ")"
   ]
  },
  {
   "cell_type": "code",
   "execution_count": 6,
   "id": "5f0aed01-e823-49f9-802f-b03a42e6abed",
   "metadata": {},
   "outputs": [],
   "source": [
    "data['Features'] = data['Features'].str.replace(',', '').str.lower()\n",
    "vectorizer = CountVectorizer()\n",
    "feature_matrix = vectorizer.fit_transform(data['Features'])\n",
    "cosine_sim = cosine_similarity(feature_matrix, feature_matrix)"
   ]
  },
  {
   "cell_type": "code",
   "execution_count": null,
   "id": "dbf71e97-d776-4156-a743-e81cb02214b9",
   "metadata": {},
   "outputs": [
    {
     "name": "stdout",
     "output_type": "stream",
     "text": [
      "\n",
      "Enter your preferences (e.g., 'North Indian Affordable OnlineDelivery_1'):\n"
     ]
    },
    {
     "name": "stdin",
     "output_type": "stream",
     "text": [
      "Preferences:  chinese\n"
     ]
    },
    {
     "name": "stdout",
     "output_type": "stream",
     "text": [
      "\n",
      "Recommended Restaurants:\n",
      "               Restaurant Name                                     Cuisines           Currency  Aggregate rating  Price range  Has Online delivery  Has Table booking\n",
      "Kaveri Restaurant And Caterers North Indian, Chinese, South Indian, Chinese Indian Rupees(Rs.)               3.4            1                    0                  0\n",
      "Kaveri Restaurant And Caterers North Indian, Chinese, South Indian, Chinese Indian Rupees(Rs.)               4.0            1                    0                  0\n",
      "  House of China Restaurant II                                      Chinese          Dollar($)               3.8            1                    0                  0\n",
      "                  Chang Garden                                      Chinese          Dollar($)               3.5            1                    0                  0\n",
      "                  Hunan Palace                                      Chinese          Dollar($)               3.8            2                    0                  0\n",
      "\n",
      "Would you like to try again? Type 'exit' to quit.\n",
      "\n",
      "Enter your preferences (e.g., 'North Indian Affordable OnlineDelivery_1'):\n"
     ]
    }
   ],
   "source": [
    "def recommend_restaurants(user_input, data, cosine_sim, top_n=5):\n",
    "\n",
    "    user_features = vectorizer.transform([user_input.lower()])\n",
    "    user_sim = cosine_similarity(user_features, feature_matrix)\n",
    "\n",
    "    sim_scores = list(enumerate(user_sim[0]))\n",
    "    sim_scores = sorted(sim_scores, key=lambda x: x[1], reverse=True)\n",
    "\n",
    "    top_indices = [i[0] for i in sim_scores[:top_n]]\n",
    "    recommendations = data.iloc[top_indices]\n",
    "\n",
    "    return recommendations[['Restaurant Name', 'Cuisines', 'Currency', 'Aggregate rating', 'Price range', \n",
    "                             'Has Online delivery', 'Has Table booking']]\n",
    "\n",
    "while True:\n",
    "    print(\"\\nEnter your preferences (e.g., 'North Indian Affordable OnlineDelivery_1'):\")\n",
    "    user_preference = input(\"Preferences: \")\n",
    "    \n",
    "    if user_preference.lower() in ['exit', 'quit']:\n",
    "        print(\"Exiting recommendation system. Goodbye!\")\n",
    "        break\n",
    "\n",
    "    print(\"\\nRecommended Restaurants:\")\n",
    "    recommendations = recommend_restaurants(user_preference, data, cosine_sim, top_n=5)\n",
    "    print(recommendations.to_string(index=False))\n",
    "\n",
    "    print(\"\\nWould you like to try again? Type 'exit' to quit.\")"
   ]
  },
  {
   "cell_type": "code",
   "execution_count": null,
   "id": "f40ed965-c450-4198-b2cf-561ce396f3fa",
   "metadata": {},
   "outputs": [],
   "source": []
  }
 ],
 "metadata": {
  "kernelspec": {
   "display_name": "Python 3 (ipykernel)",
   "language": "python",
   "name": "python3"
  },
  "language_info": {
   "codemirror_mode": {
    "name": "ipython",
    "version": 3
   },
   "file_extension": ".py",
   "mimetype": "text/x-python",
   "name": "python",
   "nbconvert_exporter": "python",
   "pygments_lexer": "ipython3",
   "version": "3.11.5"
  }
 },
 "nbformat": 4,
 "nbformat_minor": 5
}
